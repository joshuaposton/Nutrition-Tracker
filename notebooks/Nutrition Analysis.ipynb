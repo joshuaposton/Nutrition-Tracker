{
 "cells": [
  {
   "cell_type": "code",
   "execution_count": 17,
   "id": "16b301e0",
   "metadata": {},
   "outputs": [
    {
     "name": "stdout",
     "output_type": "stream",
     "text": [
      "API key loaded successfully\n"
     ]
    }
   ],
   "source": [
    "from openai import OpenAI\n",
    "import pandas as pd\n",
    "from datetime import datetime\n",
    "from dotenv import load_dotenv\n",
    "import os\n",
    "\n",
    "# Load environment variables from .env file\n",
    "load_dotenv()\n",
    "openai_api_key = os.getenv('OPENAI_API_KEY')\n",
    "\n",
    "# Initialize OpenAI client\n",
    "client = OpenAI(\n",
    "    api_key=openai_api_key,\n",
    "    organization = 'org-HYZ3K0fyUX0swFmRXT3WwALp'\n",
    "    )\n",
    "\n",
    "# Verify API key\n",
    "if openai_api_key:\n",
    "    print(\"API key loaded successfully\")\n",
    "else:\n",
    "    print(\"Failed to load API key\")"
   ]
  },
  {
   "cell_type": "code",
   "execution_count": 88,
   "id": "a1f0b350",
   "metadata": {},
   "outputs": [],
   "source": [
    "def get_nutritional_info(food_description):\n",
    "    response = client.chat.completions.create(\n",
    "          model=\"gpt-3.5-turbo\",\n",
    "          messages=[\n",
    "            {\"role\": \"system\", \"content\": \"You are a helpful assistant.\"},\n",
    "            {\"role\": \"user\", \"content\": f\"Provide the nutritional information for the following food: {food_description}, include serving size calculations if a partial serving prompt is given\"}\n",
    "          ])\n",
    "    return response.choices[0].message.content.strip()\n",
    "    \n",
    "\n",
    "\n",
    "\n",
    "\n"
   ]
  },
  {
   "cell_type": "code",
   "execution_count": 99,
   "id": "60f7bc02",
   "metadata": {},
   "outputs": [],
   "source": [
    "def log_nutritional_info(food_description, nutritional_info, filename='C:\\\\Users\\\\VHAALXPostoJ\\\\Portfolio Projects\\\\nutrition_log.csv'):\n",
    "    # Create a DataFrame with the new entry\n",
    "    new_entry = pd.DataFrame({\n",
    "        'Food Description': [food_description],\n",
    "        'Nutritional Information': [nutritional_info]\n",
    "    })\n",
    "    \n",
    "    try:\n",
    "        # If the file exists, append without writing the header\n",
    "        if os.path.isfile(filename):\n",
    "            new_entry.to_csv(filename, mode='a', index=False, header=False)\n",
    "        else:\n",
    "            new_entry.to_csv(filename, mode='w', index=False, header=True)\n",
    "        print(f\"Successfully logged nutritional info to {filename}\")\n",
    "    except Exception as e:\n",
    "        print(f\"Failed to log nutritional info: {e}\")\n",
    "        \n",
    "    "
   ]
  },
  {
   "cell_type": "code",
   "execution_count": 102,
   "id": "421668dc",
   "metadata": {},
   "outputs": [
    {
     "name": "stdout",
     "output_type": "stream",
     "text": [
      "Nutritional Information: Certainly! \n",
      "First, I'll provide the nutritional information for a full serving of Optimum Nutrition mass gainer. Then, I'll calculate half of a serving and combine it with the nutritional information for 2 cups of whole milk.\n",
      "\n",
      "**Full Serving of Optimum Nutrition Mass Gainer (serving size: 2 scoops)**:\n",
      "- Calories: 760\n",
      "- Protein: 50g\n",
      "- Total Fat: 12g\n",
      "- Carbohydrates: 112g\n",
      "- Dietary Fiber: 5g\n",
      "- Sugars: 15g\n",
      "- Cholesterol: 80mg\n",
      "\n",
      "**Half Serving of Optimum Nutrition Mass Gainer (serving size: 1 scoop)**:\n",
      "- Calories: 380\n",
      "- Protein: 25g\n",
      "- Total Fat: 6g\n",
      "- Carbohydrates: 56g\n",
      "- Dietary Fiber: 2.5g\n",
      "- Sugars: 7.5g\n",
      "- Cholesterol: 40mg\n",
      "\n",
      "**Nutritional Information for 2 Cups of Whole Milk (480ml)**:\n",
      "- Calories: 300\n",
      "- Protein: 16g\n",
      "- Total Fat: 16g\n",
      "- Carbohydrates: 24g\n",
      "- Sugars: 24g\n",
      "- Cholesterol: 40mg\n",
      "\n",
      "**Combined Nutritional Information for 1/2 Serving of Optimum Nutrition Mass Gainer with 2 Cups of Whole Milk**:\n",
      "- Calories: 680\n",
      "- Protein: 41g\n",
      "- Total Fat: 22g\n",
      "- Carbohydrates: 80g\n",
      "- Dietary Fiber: 2.5g\n",
      "- Sugars: 31.5g\n",
      "- Cholesterol: 80mg\n",
      "\n",
      "Please note that these values are approximate and may vary based on the specific product and brand used.\n"
     ]
    }
   ],
   "source": [
    "food_description = \"1/2 serving of Optimum Nutrition mass gainer with 2 cups of whole milk\"\n",
    "nutritional_info = get_nutritional_info(food_description)\n",
    "print(f\"Nutritional Information: {nutritional_info}\")\n"
   ]
  },
  {
   "cell_type": "code",
   "execution_count": 103,
   "id": "a5f63256",
   "metadata": {},
   "outputs": [],
   "source": [
    "log_nutritional_info(food_description, nutritional_info)"
   ]
  },
  {
   "cell_type": "code",
   "execution_count": null,
   "id": "80e8fa0c",
   "metadata": {},
   "outputs": [],
   "source": []
  }
 ],
 "metadata": {
  "kernelspec": {
   "display_name": "Python (food_nutrition_app)",
   "language": "python",
   "name": "food_nutrition_app"
  },
  "language_info": {
   "codemirror_mode": {
    "name": "ipython",
    "version": 3
   },
   "file_extension": ".py",
   "mimetype": "text/x-python",
   "name": "python",
   "nbconvert_exporter": "python",
   "pygments_lexer": "ipython3",
   "version": "3.8.19"
  }
 },
 "nbformat": 4,
 "nbformat_minor": 5
}
